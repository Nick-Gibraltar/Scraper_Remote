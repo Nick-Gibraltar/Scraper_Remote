{
 "cells": [
  {
   "cell_type": "markdown",
   "metadata": {},
   "source": []
  },
  {
   "cell_type": "code",
   "execution_count": 10,
   "metadata": {},
   "outputs": [
    {
     "name": "stdout",
     "output_type": "stream",
     "text": [
      "/home/nick/raw_data\n",
      "True\n"
     ]
    }
   ],
   "source": [
    "import os\n",
    "check_path = os.path.expanduser(\"~\")+\"/raw_data\"\n",
    "print(check_path)\n",
    "print(os.path.exists(check_path))"
   ]
  }
 ],
 "metadata": {
  "kernelspec": {
   "display_name": "data",
   "language": "python",
   "name": "python3"
  },
  "language_info": {
   "codemirror_mode": {
    "name": "ipython",
    "version": 3
   },
   "file_extension": ".py",
   "mimetype": "text/x-python",
   "name": "python",
   "nbconvert_exporter": "python",
   "pygments_lexer": "ipython3",
   "version": "3.9.15"
  },
  "orig_nbformat": 4,
  "vscode": {
   "interpreter": {
    "hash": "8f0f8a650449be3f445f1235b1a8e3f5fa0aab725a6406abd35559d86c78f6e8"
   }
  }
 },
 "nbformat": 4,
 "nbformat_minor": 2
}
